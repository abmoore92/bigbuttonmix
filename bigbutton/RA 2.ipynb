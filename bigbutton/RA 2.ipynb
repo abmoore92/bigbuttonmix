{
 "cells": [
  {
   "cell_type": "code",
   "execution_count": 1,
   "metadata": {},
   "outputs": [],
   "source": [
    "from request_library import *\n",
    "from resident_advisor import *\n",
    "import re\n",
    "import random\n"
   ]
  },
  {
   "cell_type": "code",
   "execution_count": 2,
   "metadata": {},
   "outputs": [],
   "source": [
    "soup = get_soup()\n",
    "events=get_events_list_from_search(soup)"
   ]
  },
  {
   "cell_type": "code",
   "execution_count": 3,
   "metadata": {},
   "outputs": [],
   "source": [
    "def href(href):\n",
    "    return 'https://www.residentadvisor.net'+href"
   ]
  },
  {
   "cell_type": "code",
   "execution_count": 4,
   "metadata": {},
   "outputs": [],
   "source": [
    "event_urls = []\n",
    "for e in events:\n",
    "    event_urls.append(href(e['href']))"
   ]
  },
  {
   "cell_type": "code",
   "execution_count": 12,
   "metadata": {},
   "outputs": [
    {
     "data": {
      "text/plain": [
       "'http://www.soundcloud.com/hauznated'"
      ]
     },
     "execution_count": 12,
     "metadata": {},
     "output_type": "execute_result"
    }
   ],
   "source": [
    "event = random.choice(event_urls)\n",
    "\n",
    "event_soup = get_soup(event)\n",
    "\n",
    "artists = get_artists_from_event(event_soup)\n",
    "\n",
    "artist_url = href(random.choice(artists))\n",
    "\n",
    "artist_soup = get_soup(artist_url)\n",
    "\n",
    "artist_soundcloud = get_souncloud_from_artistpage(artist_soup)\n",
    "\n",
    "artist_soundcloud"
   ]
  },
  {
   "cell_type": "code",
   "execution_count": null,
   "metadata": {},
   "outputs": [],
   "source": []
  }
 ],
 "metadata": {
  "kernelspec": {
   "display_name": "Python 3",
   "language": "python",
   "name": "python3"
  },
  "language_info": {
   "codemirror_mode": {
    "name": "ipython",
    "version": 3
   },
   "file_extension": ".py",
   "mimetype": "text/x-python",
   "name": "python",
   "nbconvert_exporter": "python",
   "pygments_lexer": "ipython3",
   "version": "3.6.1"
  }
 },
 "nbformat": 4,
 "nbformat_minor": 4
}
