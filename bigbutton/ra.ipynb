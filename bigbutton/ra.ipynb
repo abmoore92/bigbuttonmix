{
 "cells": [
  {
   "cell_type": "code",
   "execution_count": 5,
   "metadata": {},
   "outputs": [],
   "source": [
    "from request_library import *\n",
    "from resident_advisor import *\n",
    "import re"
   ]
  },
  {
   "cell_type": "code",
   "execution_count": 7,
   "metadata": {},
   "outputs": [],
   "source": [
    "dateurl = r'https://ra.co/events/uk/london?week=2021-05-20'\n",
    "\n",
    "r = request_hidden(dateurl)\n",
    "\n",
    "content = r.content\n",
    "\n",
    "soup = BeautifulSoup(content,'lxml')"
   ]
  },
  {
   "cell_type": "code",
   "execution_count": 17,
   "metadata": {},
   "outputs": [
    {
     "data": {
      "text/plain": [
       "{'color': 'inherit',\n",
       " 'font-weight': 'bold',\n",
       " 'class': ['Text-sc-1t0gn2o-0',\n",
       "  'GlobalNavItem___StyledText-sc-1n2h0fd-0',\n",
       "  'cJSUTg']}"
      ]
     },
     "execution_count": 17,
     "metadata": {},
     "output_type": "execute_result"
    }
   ],
   "source": [
    "soup.find_all('span',)[4].attrs"
   ]
  },
  {
   "cell_type": "code",
   "execution_count": 8,
   "metadata": {},
   "outputs": [
    {
     "ename": "IndexError",
     "evalue": "list index out of range",
     "output_type": "error",
     "traceback": [
      "\u001b[1;31m---------------------------------------------------------------------------\u001b[0m",
      "\u001b[1;31mIndexError\u001b[0m                                Traceback (most recent call last)",
      "\u001b[1;32m<ipython-input-8-9d4e09851ec4>\u001b[0m in \u001b[0;36m<module>\u001b[1;34m\u001b[0m\n\u001b[1;32m----> 1\u001b[1;33m \u001b[1;32mfor\u001b[0m \u001b[0md\u001b[0m \u001b[1;32min\u001b[0m \u001b[0msoup\u001b[0m\u001b[1;33m.\u001b[0m\u001b[0mfind_all\u001b[0m\u001b[1;33m(\u001b[0m\u001b[1;34m'article'\u001b[0m\u001b[1;33m)\u001b[0m\u001b[1;33m[\u001b[0m\u001b[1;36m1\u001b[0m\u001b[1;33m]\u001b[0m\u001b[1;33m.\u001b[0m\u001b[0mchildren\u001b[0m\u001b[1;33m:\u001b[0m\u001b[1;33m\u001b[0m\u001b[1;33m\u001b[0m\u001b[0m\n\u001b[0m\u001b[0;32m      2\u001b[0m     \u001b[1;32mtry\u001b[0m\u001b[1;33m:\u001b[0m\u001b[1;33m\u001b[0m\u001b[1;33m\u001b[0m\u001b[0m\n\u001b[0;32m      3\u001b[0m         \u001b[0mprint\u001b[0m\u001b[1;33m(\u001b[0m\u001b[0md\u001b[0m\u001b[1;33m)\u001b[0m\u001b[1;33m\u001b[0m\u001b[1;33m\u001b[0m\u001b[0m\n\u001b[0;32m      4\u001b[0m         \u001b[0mprint\u001b[0m\u001b[1;33m(\u001b[0m\u001b[0md\u001b[0m\u001b[1;33m.\u001b[0m\u001b[0mattrs\u001b[0m\u001b[1;33m)\u001b[0m\u001b[1;33m\u001b[0m\u001b[1;33m\u001b[0m\u001b[0m\n\u001b[0;32m      5\u001b[0m     \u001b[1;32mexcept\u001b[0m\u001b[1;33m:\u001b[0m\u001b[1;33m\u001b[0m\u001b[1;33m\u001b[0m\u001b[0m\n",
      "\u001b[1;31mIndexError\u001b[0m: list index out of range"
     ]
    }
   ],
   "source": [
    "for d in soup.find_all('article')[1].children:\n",
    "    try:\n",
    "        print(d)\n",
    "        print(d.attrs)\n",
    "    except:\n",
    "        0==0"
   ]
  },
  {
   "cell_type": "code",
   "execution_count": 68,
   "metadata": {},
   "outputs": [
    {
     "data": {
      "text/plain": [
       "{'href': '/events/1424611',\n",
       " 'itemprop': 'url',\n",
       " 'title': 'Event details of Else X Renate 13 w. Hunee & Young Marco'}"
      ]
     },
     "execution_count": 68,
     "metadata": {},
     "output_type": "execute_result"
    }
   ],
   "source": [
    "soup.find_all('article')[0].find('div').find('a').attrs"
   ]
  },
  {
   "cell_type": "code",
   "execution_count": 74,
   "metadata": {},
   "outputs": [
    {
     "data": {
      "text/plain": [
       "'events'"
      ]
     },
     "execution_count": 74,
     "metadata": {},
     "output_type": "execute_result"
    }
   ],
   "source": [
    "soup.find_all('article')[0].find('div').find('a').attrs['href'].split('/')[1]"
   ]
  },
  {
   "cell_type": "code",
   "execution_count": null,
   "metadata": {},
   "outputs": [],
   "source": []
  },
  {
   "cell_type": "code",
   "execution_count": 37,
   "metadata": {},
   "outputs": [],
   "source": [
    "links = soup.find_all('span',{'data-test-id':\"event-listing-heading\"})"
   ]
  },
  {
   "cell_type": "code",
   "execution_count": 42,
   "metadata": {},
   "outputs": [
    {
     "data": {
      "text/plain": [
       "{'href': '/events/1443149',\n",
       " 'data-tracking-id': '/events/1443149',\n",
       " 'data-test-id': 'event-listing-heading',\n",
       " 'color': 'primary',\n",
       " 'font-weight': 'normal',\n",
       " 'class': ['Text-sc-1t0gn2o-0', 'Link__StyledLink-k7o46r-0', 'ZNgTg']}"
      ]
     },
     "execution_count": 42,
     "metadata": {},
     "output_type": "execute_result"
    }
   ],
   "source": [
    "link = links[0]\n",
    "\n",
    "link.attrs"
   ]
  },
  {
   "cell_type": "code",
   "execution_count": 45,
   "metadata": {
    "collapsed": true,
    "jupyter": {
     "outputs_hidden": true
    }
   },
   "outputs": [
    {
     "data": {
      "text/plain": [
       "['/events/1443149',\n",
       " '/events/1443674',\n",
       " '/events/1443245',\n",
       " '/events/1443246',\n",
       " '/events/1444412',\n",
       " '/events/1439706',\n",
       " '/events/1441982',\n",
       " '/events/1443940',\n",
       " '/events/1438340',\n",
       " '/events/1439463',\n",
       " '/events/1428232',\n",
       " '/events/1437818',\n",
       " '/events/1438862',\n",
       " '/events/1443559',\n",
       " '/events/1443535',\n",
       " '/events/1442971',\n",
       " '/events/1442794',\n",
       " '/events/1438199',\n",
       " '/events/1439811',\n",
       " '/events/1442796',\n",
       " '/events/1444285',\n",
       " '/events/1443831',\n",
       " '/events/1439139',\n",
       " '/events/1440479',\n",
       " '/events/1443941',\n",
       " '/events/1443126',\n",
       " '/events/1439707',\n",
       " '/events/1443736',\n",
       " '/events/1441307',\n",
       " '/events/1438341',\n",
       " '/events/1438818',\n",
       " '/events/1439463',\n",
       " '/events/1440335',\n",
       " '/events/1440480',\n",
       " '/events/1438091',\n",
       " '/events/1440338',\n",
       " '/events/1426556',\n",
       " '/events/1438796',\n",
       " '/events/1438470',\n",
       " '/events/1439157',\n",
       " '/events/1438452',\n",
       " '/events/1438469',\n",
       " '/events/1442971',\n",
       " '/events/1428223',\n",
       " '/events/1438791',\n",
       " '/events/1443044',\n",
       " '/events/1439140',\n",
       " '/events/1441178',\n",
       " '/events/1443291',\n",
       " '/events/1443836',\n",
       " '/events/1443273',\n",
       " '/events/1443272',\n",
       " '/events/1439708',\n",
       " '/events/1443410',\n",
       " '/events/1443942',\n",
       " '/events/1443048',\n",
       " '/events/1438342',\n",
       " '/events/1440574',\n",
       " '/events/1428754',\n",
       " '/events/1439784',\n",
       " '/events/1441582',\n",
       " '/events/1438879',\n",
       " '/events/1441563',\n",
       " '/events/1442183',\n",
       " '/events/1442654',\n",
       " '/events/1439708',\n",
       " '/events/1439709',\n",
       " '/events/1444326',\n",
       " '/events/1441905',\n",
       " '/events/1439709',\n",
       " '/events/1444326',\n",
       " '/events/1442936']"
      ]
     },
     "execution_count": 45,
     "metadata": {},
     "output_type": "execute_result"
    }
   ],
   "source": [
    "def get_events_list_from_search(soup):\n",
    "    \"\"\"\n",
    "    Soup object for the search list webpage\n",
    "    :param soup:\n",
    "    :return: list of href in string format for event pages\n",
    "    \"\"\"\n",
    "    links = soup.find_all('span',{'data-test-id':\"event-listing-heading\"})\n",
    "    return [l['href'] for l in links]\n",
    "\n",
    "get_events_list_from_search(soup)"
   ]
  },
  {
   "cell_type": "code",
   "execution_count": 36,
   "metadata": {},
   "outputs": [
    {
     "data": {
      "text/plain": [
       "'/events/1443149'"
      ]
     },
     "execution_count": 36,
     "metadata": {},
     "output_type": "execute_result"
    }
   ],
   "source": [
    "link['href']"
   ]
  },
  {
   "cell_type": "code",
   "execution_count": 22,
   "metadata": {},
   "outputs": [
    {
     "ename": "AttributeError",
     "evalue": "'NoneType' object has no attribute 'attrs'",
     "output_type": "error",
     "traceback": [
      "\u001b[1;31m---------------------------------------------------------------------------\u001b[0m",
      "\u001b[1;31mAttributeError\u001b[0m                            Traceback (most recent call last)",
      "\u001b[1;32m<ipython-input-22-546fa4d461dd>\u001b[0m in \u001b[0;36m<module>\u001b[1;34m\u001b[0m\n\u001b[0;32m      2\u001b[0m \u001b[1;32mfor\u001b[0m \u001b[0marticle\u001b[0m \u001b[1;32min\u001b[0m \u001b[0msoup\u001b[0m\u001b[1;33m.\u001b[0m\u001b[0mfind_all\u001b[0m\u001b[1;33m(\u001b[0m\u001b[0mis_event_link\u001b[0m\u001b[1;33m)\u001b[0m\u001b[1;33m:\u001b[0m\u001b[1;33m\u001b[0m\u001b[1;33m\u001b[0m\u001b[0m\n\u001b[0;32m      3\u001b[0m     \u001b[1;31m#try:\u001b[0m\u001b[1;33m\u001b[0m\u001b[1;33m\u001b[0m\u001b[1;33m\u001b[0m\u001b[0m\n\u001b[1;32m----> 4\u001b[1;33m     \u001b[0mlinks\u001b[0m\u001b[1;33m.\u001b[0m\u001b[0mappend\u001b[0m\u001b[1;33m(\u001b[0m\u001b[0marticle\u001b[0m\u001b[1;33m.\u001b[0m\u001b[0mfind\u001b[0m\u001b[1;33m(\u001b[0m\u001b[1;34m'div'\u001b[0m\u001b[1;33m)\u001b[0m\u001b[1;33m.\u001b[0m\u001b[0mfind\u001b[0m\u001b[1;33m(\u001b[0m\u001b[1;34m'a'\u001b[0m\u001b[1;33m)\u001b[0m\u001b[1;33m.\u001b[0m\u001b[0mattrs\u001b[0m\u001b[1;33m)\u001b[0m\u001b[1;33m\u001b[0m\u001b[1;33m\u001b[0m\u001b[0m\n\u001b[0m\u001b[0;32m      5\u001b[0m     \u001b[1;31m#except:\u001b[0m\u001b[1;33m\u001b[0m\u001b[1;33m\u001b[0m\u001b[1;33m\u001b[0m\u001b[0m\n\u001b[0;32m      6\u001b[0m      \u001b[1;31m#   continue\u001b[0m\u001b[1;33m\u001b[0m\u001b[1;33m\u001b[0m\u001b[1;33m\u001b[0m\u001b[0m\n",
      "\u001b[1;31mAttributeError\u001b[0m: 'NoneType' object has no attribute 'attrs'"
     ]
    }
   ],
   "source": [
    "links = []\n",
    "for article in soup.find_all('a',\n",
    "                             {'data-test-id':\"event-listing-heading\"}\n",
    "                            ):\n",
    "    #try:\n",
    "    links.append(article.find('div').find('a').attrs)\n",
    "    #except:\n",
    "     #   continue\n",
    "links        \n",
    "#<a href=\"/events/1443246\" data-tracking-id=\"/events/1443246\" data-test-id=\"event-listing-heading\" class=\"Link__AnchorWrapper-k7o46r-1 iRSXcp\"><span href=\"/events/1443246\" data-tracking-id=\"/events/1443246\" data-test-id=\"event-listing-heading\" color=\"primary\" font-weight=\"normal\" class=\"Text-sc-1t0gn2o-0 Link__StyledLink-k7o46r-0 ZNgTg\">DJs at Costa Del Tottenham</span></a>"
   ]
  },
  {
   "cell_type": "code",
   "execution_count": 84,
   "metadata": {},
   "outputs": [
    {
     "data": {
      "text/plain": [
       "{'href': '/events/1424611',\n",
       " 'itemprop': 'url',\n",
       " 'title': 'Event details of Else X Renate 13 w. Hunee & Young Marco'}"
      ]
     },
     "execution_count": 84,
     "metadata": {},
     "output_type": "execute_result"
    }
   ],
   "source": [
    "links[0]"
   ]
  },
  {
   "cell_type": "code",
   "execution_count": 46,
   "metadata": {},
   "outputs": [],
   "source": [
    "eventurl = r'https://ra.co/events/1440335'\n",
    "r = request_hidden(eventurl)\n",
    "\n",
    "content = r.content\n",
    "\n",
    "soup = BeautifulSoup(content,'lxml')"
   ]
  },
  {
   "cell_type": "code",
   "execution_count": 61,
   "metadata": {},
   "outputs": [
    {
     "data": {
      "text/plain": [
       "3"
      ]
     },
     "execution_count": 61,
     "metadata": {},
     "output_type": "execute_result"
    }
   ],
   "source": [
    "lineup = soup.find('div',{'data-tracking-id':'event-detail-lineup'})\n",
    "artists = lineup.find_all('a')\n",
    "[a['href'] for a in artists]\n",
    "len(artists)"
   ]
  },
  {
   "cell_type": "code",
   "execution_count": 62,
   "metadata": {},
   "outputs": [],
   "source": [
    "artisturl = r'https://ra.co/dj/benmurphy'\n",
    "\n",
    "r=request_hidden(artisturl)\n",
    "content=r.content\n",
    "\n",
    "artsoup = BeautifulSoup(content,'lxml')\n",
    "\n"
   ]
  },
  {
   "cell_type": "code",
   "execution_count": 63,
   "metadata": {},
   "outputs": [
    {
     "data": {
      "text/plain": [
       "'https://www.soundcloud.com/techtwin'"
      ]
     },
     "execution_count": 63,
     "metadata": {},
     "output_type": "execute_result"
    }
   ],
   "source": [
    "artsoup.find('a', {'href': re.compile(r'soundcloud\\.com/')})['href']"
   ]
  }
 ],
 "metadata": {
  "kernelspec": {
   "display_name": "Python 3",
   "language": "python",
   "name": "python3"
  },
  "language_info": {
   "codemirror_mode": {
    "name": "ipython",
    "version": 3
   },
   "file_extension": ".py",
   "mimetype": "text/x-python",
   "name": "python",
   "nbconvert_exporter": "python",
   "pygments_lexer": "ipython3",
   "version": "3.7.4"
  }
 },
 "nbformat": 4,
 "nbformat_minor": 4
}
