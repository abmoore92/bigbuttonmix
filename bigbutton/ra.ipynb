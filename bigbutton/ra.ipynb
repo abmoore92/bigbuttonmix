{
 "cells": [
  {
   "cell_type": "code",
   "execution_count": 2,
   "metadata": {},
   "outputs": [],
   "source": [
    "from request_library import *\n",
    "from resident_advisor import *\n",
    "import re"
   ]
  },
  {
   "cell_type": "code",
   "execution_count": 3,
   "metadata": {},
   "outputs": [],
   "source": [
    "dateurl = r'https://ra.co/events/uk/london?week=2021-05-20'\n",
    "\n",
    "r = request_hidden(dateurl)\n",
    "\n",
    "content = r.content\n",
    "\n",
    "soup = BeautifulSoup(content,'lxml')"
   ]
  },
  {
   "cell_type": "code",
   "execution_count": 71,
   "metadata": {},
   "outputs": [
    {
     "data": {
      "text/plain": [
       "<span class=\"Text-sc-1t0gn2o-0 Link__StyledLink-k7o46r-0 bQnAWQ\" color=\"primary\" data-tracking-id=\"/\" font-weight=\"normal\" href=\"/\" style=\"outline:none\"><div class=\"Box-omzyfs-0 Alignment-sc-1fjm9oq-0 kUSCho GlobalNavBar__HoverIcon-sc-1octemn-0 gVPSBR\" color=\"primary\" height=\"50\" width=\"50\"><svg aria-label=\"RA logo\" height=\"100%\" viewbox=\"0 0 83 40\" width=\"100%\"><g fill=\"none\" fill-rule=\"evenodd\"><path d=\"M0 0h24v24H0z\" fill=\"none\"></path><path d=\"M82.092 32.018c.556-.533.908-1.28.908-2.113 0-.802-.38-1.523-.9-2.051L58.665 4.3l-7.073 7.11 18.45 18.543h-26.14c-1.278-.038-2.29-.469-3.147-1.304l-11.73-11.788a6.828 6.828 0 00-4.689-1.888l-.017.001H10.004v-4.92h14.825c2.938.002 5.559 1.21 7.48 3.15l8.749 8.793 7.073-7.11-8.92-8.963C35.485 2.234 30.45 0 24.805 0H0v25.027h20.978v.002a4.919 4.919 0 013.486 1.48L35.95 38.053A6.74 6.74 0 0040.449 40h31.733a4.911 4.911 0 003.423-1.45l6.491-6.524-.004-.008\" fill=\"currentColor\"></path></g></svg></div></span>"
      ]
     },
     "execution_count": 71,
     "metadata": {},
     "output_type": "execute_result"
    }
   ],
   "source": [
    "links = soup.find_all('span')\n",
    "l = links[0]\n",
    "l#.hasattr('href')"
   ]
  },
  {
   "cell_type": "code",
   "execution_count": 55,
   "metadata": {},
   "outputs": [
    {
     "data": {
      "text/plain": [
       "['/events/1443149',\n",
       " '/events/1443149',\n",
       " '/events/1441307',\n",
       " '/events/1441307',\n",
       " '/events/1438341',\n",
       " '/events/1438341',\n",
       " '/events/1438340',\n",
       " '/events/1438340',\n",
       " '/events/1438818',\n",
       " '/events/1438818',\n",
       " '/events/1438342',\n",
       " '/events/1438342',\n",
       " '/events/1439463',\n",
       " '/events/1439463',\n",
       " '/events/1440335',\n",
       " '/events/1440335',\n",
       " '/events/1440480',\n",
       " '/events/1440480',\n",
       " '/events/1426556',\n",
       " '/events/1426556',\n",
       " '/events/1432522',\n",
       " '/events/1442713',\n",
       " '/events/1444738',\n",
       " '/events/1438603',\n",
       " '/events/1444150',\n",
       " '/events/1444149',\n",
       " '/events/1438361',\n",
       " '/events/1441059',\n",
       " '/events/1442421',\n",
       " '/events/1441485']"
      ]
     },
     "execution_count": 55,
     "metadata": {},
     "output_type": "execute_result"
    }
   ],
   "source": [
    "links = soup.find_all('span')\n",
    "\n",
    "hrefs = []\n",
    "for l in links:\n",
    "    try:\n",
    "        href = l['href']\n",
    "        hrefs.append(href)\n",
    "    except:\n",
    "        continue\n",
    "        \n",
    "    \n",
    "hrefs = [h for h in hrefs if h.split('/')[1]=='events']\n",
    "hrefs = [h for h in hrefs if h.split('/')[-1].isnumeric()]\n",
    "\n",
    "hrefs"
   ]
  },
  {
   "cell_type": "code",
   "execution_count": 44,
   "metadata": {},
   "outputs": [
    {
     "name": "stdout",
     "output_type": "stream",
     "text": [
      "/events/de/berlin\n",
      "<span class=\"Text-sc-1t0gn2o-0 Link__StyledLink-k7o46r-0 bQnAWQ\" color=\"primary\" data-tracking-id=\"/events/de/berlin\" font-weight=\"normal\" href=\"/events/de/berlin\" style=\"outline:none\"><div class=\"Box-omzyfs-0 Alignment-sc-1fjm9oq-0 GlobalNavItem__HoverAlignment-sc-1n2h0fd-1 kZGBOC\" color=\"primary\"><span class=\"Text-sc-1t0gn2o-0 GlobalNavItem___StyledText-sc-1n2h0fd-0 cJSUTg\" color=\"inherit\" font-weight=\"bold\">Events</span></div></span>\n",
      "/events/de/berlin\n",
      "<span class=\"Text-sc-1t0gn2o-0 Link__StyledLink-k7o46r-0 jdctpE\" color=\"primary\" data-tracking-id=\"/events/de/berlin\" font-weight=\"normal\" href=\"/events/de/berlin\">Events</span>\n",
      "/events/00/all\n",
      "<span class=\"Text-sc-1t0gn2o-0 Link__StyledLink-k7o46r-0 imAwPk\" color=\"grey.30\" data-tracking-id=\"/events/00/all\" font-weight=\"normal\" href=\"/events/00/all\">Streamland</span>\n",
      "/events/uk/london\n",
      "<span class=\"Text-sc-1t0gn2o-0 Link__StyledLink-k7o46r-0 hLQftC SubNavLink___StyledLink-ld7eyt-0 dOnEjD\" color=\"primary\" data-tracking-id=\"/events/uk/london\" font-weight=\"bold\" href=\"/events/uk/london\" rel=\"\" role=\"tab\" target=\"\"><div class=\"Box-omzyfs-0 Alignment-sc-1fjm9oq-0 JLbmT\">Events</div></span>\n",
      "/events/1443149\n",
      "<span class=\"Text-sc-1t0gn2o-0 Link__StyledLink-k7o46r-0 ZNgTg\" color=\"primary\" data-tracking-id=\"/events/1443149\" font-weight=\"normal\" href=\"/events/1443149\"><div class=\"Box-omzyfs-0 Lazy__Wrapper-sc-1kakvxs-0 fpdMIH\"></div></span>\n",
      "/events/1443149\n",
      "<span class=\"Text-sc-1t0gn2o-0 Link__StyledLink-k7o46r-0 ZNgTg\" color=\"primary\" data-tracking-id=\"/events/1443149\" font-weight=\"normal\" href=\"/events/1443149\">Grand Indoor Opening</span>\n",
      "/events/1441307\n",
      "<span class=\"Text-sc-1t0gn2o-0 Link__StyledLink-k7o46r-0 ZNgTg\" color=\"primary\" data-tracking-id=\"/events/1441307\" font-weight=\"normal\" href=\"/events/1441307\"><div class=\"Box-omzyfs-0 Lazy__Wrapper-sc-1kakvxs-0 fpdMIH\"></div></span>\n",
      "/events/1441307\n",
      "<span class=\"Text-sc-1t0gn2o-0 Link__StyledLink-k7o46r-0 ZNgTg\" color=\"primary\" data-tracking-id=\"/events/1441307\" font-weight=\"normal\" href=\"/events/1441307\">Secretsundaze Sit Down</span>\n",
      "/events/1438341\n",
      "<span class=\"Text-sc-1t0gn2o-0 Link__StyledLink-k7o46r-0 ZNgTg\" color=\"primary\" data-tracking-id=\"/events/1438341\" font-weight=\"normal\" href=\"/events/1438341\"><div class=\"Box-omzyfs-0 Lazy__Wrapper-sc-1kakvxs-0 fpdMIH\"></div></span>\n",
      "/events/1438341\n",
      "<span class=\"Text-sc-1t0gn2o-0 Link__StyledLink-k7o46r-0 ZNgTg\" color=\"primary\" data-tracking-id=\"/events/1438341\" font-weight=\"normal\" href=\"/events/1438341\">A Glimpse of the Light - Episode 2 (Sold Out)</span>\n",
      "/events/1438340\n",
      "<span class=\"Text-sc-1t0gn2o-0 Link__StyledLink-k7o46r-0 ZNgTg\" color=\"primary\" data-tracking-id=\"/events/1438340\" font-weight=\"normal\" href=\"/events/1438340\"><div class=\"Box-omzyfs-0 Lazy__Wrapper-sc-1kakvxs-0 fpdMIH\"></div></span>\n",
      "/events/1438340\n",
      "<span class=\"Text-sc-1t0gn2o-0 Link__StyledLink-k7o46r-0 ZNgTg\" color=\"primary\" data-tracking-id=\"/events/1438340\" font-weight=\"normal\" href=\"/events/1438340\">A Glimpse of the Light - Episode 1 (Sold out)</span>\n",
      "/events/1438818\n",
      "<span class=\"Text-sc-1t0gn2o-0 Link__StyledLink-k7o46r-0 ZNgTg\" color=\"primary\" data-tracking-id=\"/events/1438818\" font-weight=\"normal\" href=\"/events/1438818\"><div class=\"Box-omzyfs-0 Lazy__Wrapper-sc-1kakvxs-0 fpdMIH\"></div></span>\n",
      "/events/1438818\n",
      "<span class=\"Text-sc-1t0gn2o-0 Link__StyledLink-k7o46r-0 ZNgTg\" color=\"primary\" data-tracking-id=\"/events/1438818\" font-weight=\"normal\" href=\"/events/1438818\">Reunion - Together is Better with Savio Testa and More</span>\n",
      "/events/1438342\n",
      "<span class=\"Text-sc-1t0gn2o-0 Link__StyledLink-k7o46r-0 ZNgTg\" color=\"primary\" data-tracking-id=\"/events/1438342\" font-weight=\"normal\" href=\"/events/1438342\"><div class=\"Box-omzyfs-0 Lazy__Wrapper-sc-1kakvxs-0 fpdMIH\"></div></span>\n",
      "/events/1438342\n",
      "<span class=\"Text-sc-1t0gn2o-0 Link__StyledLink-k7o46r-0 ZNgTg\" color=\"primary\" data-tracking-id=\"/events/1438342\" font-weight=\"normal\" href=\"/events/1438342\">A Glimpse of the Light - Episode 3</span>\n",
      "/events/1439463\n",
      "<span class=\"Text-sc-1t0gn2o-0 Link__StyledLink-k7o46r-0 ZNgTg\" color=\"primary\" data-tracking-id=\"/events/1439463\" font-weight=\"normal\" href=\"/events/1439463\"><div class=\"Box-omzyfs-0 Lazy__Wrapper-sc-1kakvxs-0 fpdMIH\"></div></span>\n",
      "/events/1439463\n",
      "<span class=\"Text-sc-1t0gn2o-0 Link__StyledLink-k7o46r-0 ZNgTg\" color=\"primary\" data-tracking-id=\"/events/1439463\" font-weight=\"normal\" href=\"/events/1439463\">Origins: Batu &amp; Ploy</span>\n",
      "/events/1440335\n",
      "<span class=\"Text-sc-1t0gn2o-0 Link__StyledLink-k7o46r-0 ZNgTg\" color=\"primary\" data-tracking-id=\"/events/1440335\" font-weight=\"normal\" href=\"/events/1440335\"><div class=\"Box-omzyfs-0 Lazy__Wrapper-sc-1kakvxs-0 fpdMIH\"></div></span>\n",
      "/events/1440335\n",
      "<span class=\"Text-sc-1t0gn2o-0 Link__StyledLink-k7o46r-0 ZNgTg\" color=\"primary\" data-tracking-id=\"/events/1440335\" font-weight=\"normal\" href=\"/events/1440335\">Shake 'The Return' [1/4] Summer 2021 Opening Party</span>\n",
      "/events/1440480\n",
      "<span class=\"Text-sc-1t0gn2o-0 Link__StyledLink-k7o46r-0 ZNgTg\" color=\"primary\" data-tracking-id=\"/events/1440480\" font-weight=\"normal\" href=\"/events/1440480\"><div class=\"Box-omzyfs-0 Lazy__Wrapper-sc-1kakvxs-0 fpdMIH\"></div></span>\n",
      "/events/1440480\n",
      "<span class=\"Text-sc-1t0gn2o-0 Link__StyledLink-k7o46r-0 ZNgTg\" color=\"primary\" data-tracking-id=\"/events/1440480\" font-weight=\"normal\" href=\"/events/1440480\">Sit Before You Stand with Creatures, Northsouth, Ogenblik, Oscuro, Outransa, Sentaku &amp; WYS</span>\n",
      "/events/1426556\n",
      "<span class=\"Text-sc-1t0gn2o-0 Link__StyledLink-k7o46r-0 ZNgTg\" color=\"primary\" data-tracking-id=\"/events/1426556\" font-weight=\"normal\" href=\"/events/1426556\"><div class=\"Box-omzyfs-0 Lazy__Wrapper-sc-1kakvxs-0 fpdMIH\"></div></span>\n",
      "/events/1426556\n",
      "<span class=\"Text-sc-1t0gn2o-0 Link__StyledLink-k7o46r-0 ZNgTg\" color=\"primary\" data-tracking-id=\"/events/1426556\" font-weight=\"normal\" href=\"/events/1426556\">Suburb Launch Party</span>\n",
      "/events/uk/london?week=2021-05-13\n",
      "<span class=\"Text-sc-1t0gn2o-0 Link__StyledLink-k7o46r-0 hrcIdR\" color=\"primary\" data-tracking-id=\"/events/uk/london?week=2021-05-13\" display=\"block\" font-weight=\"normal\" href=\"/events/uk/london?week=2021-05-13\">Thu, 13 May</span>\n",
      "/events/uk/london?week=2021-05-27\n",
      "<span class=\"Text-sc-1t0gn2o-0 Link__StyledLink-k7o46r-0 hrcIdR\" color=\"primary\" data-tracking-id=\"/events/uk/london?week=2021-05-27\" display=\"block\" font-weight=\"normal\" href=\"/events/uk/london?week=2021-05-27\">Thu, 27 May</span>\n",
      "/events/uk/london?week=2021-05-13\n",
      "<span class=\"Text-sc-1t0gn2o-0 Link__StyledLink-k7o46r-0 hrcIdR\" color=\"primary\" data-tracking-id=\"/events/uk/london?week=2021-05-13\" display=\"block\" font-weight=\"normal\" href=\"/events/uk/london?week=2021-05-13\">Thu, 13 May</span>\n",
      "/events/uk/london?week=2021-05-27\n",
      "<span class=\"Text-sc-1t0gn2o-0 Link__StyledLink-k7o46r-0 hrcIdR\" color=\"primary\" data-tracking-id=\"/events/uk/london?week=2021-05-27\" display=\"block\" font-weight=\"normal\" href=\"/events/uk/london?week=2021-05-27\">Thu, 27 May</span>\n",
      "/events/1432522\n",
      "<span class=\"Text-sc-1t0gn2o-0 Link__StyledLink-k7o46r-0 ZNgTg\" color=\"primary\" data-tracking-id=\"/events/1432522\" font-weight=\"normal\" href=\"/events/1432522\">Cloud X Festival (Curated with Native Soundsystem)</span>\n",
      "/events/1442713\n",
      "<span class=\"Text-sc-1t0gn2o-0 Link__StyledLink-k7o46r-0 ZNgTg\" color=\"primary\" data-tracking-id=\"/events/1442713\" font-weight=\"normal\" href=\"/events/1442713\">A Weekend with Ben UFO</span>\n",
      "/events/1444738\n",
      "<span class=\"Text-sc-1t0gn2o-0 Link__StyledLink-k7o46r-0 ZNgTg\" color=\"primary\" data-tracking-id=\"/events/1444738\" font-weight=\"normal\" href=\"/events/1444738\">Fuse: 13th Birthday</span>\n",
      "/events/1438603\n",
      "<span class=\"Text-sc-1t0gn2o-0 Link__StyledLink-k7o46r-0 ZNgTg\" color=\"primary\" data-tracking-id=\"/events/1438603\" font-weight=\"normal\" href=\"/events/1438603\">Feelings Worldwide - 12 Hour Open Air Dance Party</span>\n",
      "/events/1444150\n",
      "<span class=\"Text-sc-1t0gn2o-0 Link__StyledLink-k7o46r-0 ZNgTg\" color=\"primary\" data-tracking-id=\"/events/1444150\" font-weight=\"normal\" href=\"/events/1444150\">Cabin Fever: Laurel Halo B2B Hodge &amp; Minor Science</span>\n",
      "/events/1444149\n",
      "<span class=\"Text-sc-1t0gn2o-0 Link__StyledLink-k7o46r-0 ZNgTg\" color=\"primary\" data-tracking-id=\"/events/1444149\" font-weight=\"normal\" href=\"/events/1444149\">Cabin Fever: 3rd Birthday with Anthony Naples B2B DJ Python &amp; Alexis</span>\n",
      "/events/1438361\n",
      "<span class=\"Text-sc-1t0gn2o-0 Link__StyledLink-k7o46r-0 ZNgTg\" color=\"primary\" data-tracking-id=\"/events/1438361\" font-weight=\"normal\" href=\"/events/1438361\">fabric: Danilo Plessow (MCDE) Mix Launch With Young Marco, Hammer &amp; More</span>\n",
      "/events/1441059\n",
      "<span class=\"Text-sc-1t0gn2o-0 Link__StyledLink-k7o46r-0 ZNgTg\" color=\"primary\" data-tracking-id=\"/events/1441059\" font-weight=\"normal\" href=\"/events/1441059\">Alchemy: Summer Festival</span>\n",
      "/events/1442421\n",
      "<span class=\"Text-sc-1t0gn2o-0 Link__StyledLink-k7o46r-0 ZNgTg\" color=\"primary\" data-tracking-id=\"/events/1442421\" font-weight=\"normal\" href=\"/events/1442421\">Sit Before You Stand with Silverlining, Eddie Richards, Sam &amp; Ludi</span>\n",
      "/events/1441485\n",
      "<span class=\"Text-sc-1t0gn2o-0 Link__StyledLink-k7o46r-0 ZNgTg\" color=\"primary\" data-tracking-id=\"/events/1441485\" font-weight=\"normal\" href=\"/events/1441485\">Rhythm Section Returns! Summer of Love: Part 1 - Sold Out</span>\n"
     ]
    }
   ],
   "source": [
    "\"\"\"\n",
    "<span href=\"/events/1443674\" data-tracking-id=\"/events/1443674\" data-test-id=\"event-listing-heading\" color=\"primary\" font-weight=\"normal\" class=\"Text-sc-1t0gn2o-0 Link__StyledLink-k7o46r-0 ZNgTg\">Obtuse Dawdler with Gyorgy Ono &amp; Eddyb</span>\n",
    "\"\"\"\n",
    "\n",
    "tags = soup.find_all('span')#'a',{'data-test-id':\"event-listing-heading\"})\n",
    "\n",
    "for t in tags:\n",
    "    try:\n",
    "        h = t['href']\n",
    "        if h.split('/')[1] == 'events':\n",
    "            print(h)\n",
    "            print(t)\n",
    "    except:\n",
    "        continue"
   ]
  },
  {
   "cell_type": "code",
   "execution_count": 42,
   "metadata": {},
   "outputs": [],
   "source": [
    "for t in tags:\n",
    "    try:\n",
    "        if t['data-test-id']=='event-listing-heading':\n",
    "            print(t)\n",
    "    except:\n",
    "        continue"
   ]
  },
  {
   "cell_type": "code",
   "execution_count": 31,
   "metadata": {},
   "outputs": [
    {
     "data": {
      "text/plain": [
       "'events'"
      ]
     },
     "execution_count": 31,
     "metadata": {},
     "output_type": "execute_result"
    }
   ],
   "source": [
    "'/events/123123'.split('/')[1]"
   ]
  },
  {
   "cell_type": "code",
   "execution_count": 4,
   "metadata": {},
   "outputs": [
    {
     "data": {
      "text/plain": [
       "{'color': 'inherit',\n",
       " 'font-weight': 'bold',\n",
       " 'class': ['Text-sc-1t0gn2o-0',\n",
       "  'GlobalNavItem___StyledText-sc-1n2h0fd-0',\n",
       "  'cJSUTg']}"
      ]
     },
     "execution_count": 4,
     "metadata": {},
     "output_type": "execute_result"
    }
   ],
   "source": [
    "soup.find_all('span',)[4].attrs"
   ]
  },
  {
   "cell_type": "code",
   "execution_count": 5,
   "metadata": {},
   "outputs": [
    {
     "ename": "IndexError",
     "evalue": "list index out of range",
     "output_type": "error",
     "traceback": [
      "\u001b[1;31m---------------------------------------------------------------------------\u001b[0m",
      "\u001b[1;31mIndexError\u001b[0m                                Traceback (most recent call last)",
      "\u001b[1;32m<ipython-input-5-9d4e09851ec4>\u001b[0m in \u001b[0;36m<module>\u001b[1;34m\u001b[0m\n\u001b[1;32m----> 1\u001b[1;33m \u001b[1;32mfor\u001b[0m \u001b[0md\u001b[0m \u001b[1;32min\u001b[0m \u001b[0msoup\u001b[0m\u001b[1;33m.\u001b[0m\u001b[0mfind_all\u001b[0m\u001b[1;33m(\u001b[0m\u001b[1;34m'article'\u001b[0m\u001b[1;33m)\u001b[0m\u001b[1;33m[\u001b[0m\u001b[1;36m1\u001b[0m\u001b[1;33m]\u001b[0m\u001b[1;33m.\u001b[0m\u001b[0mchildren\u001b[0m\u001b[1;33m:\u001b[0m\u001b[1;33m\u001b[0m\u001b[1;33m\u001b[0m\u001b[0m\n\u001b[0m\u001b[0;32m      2\u001b[0m     \u001b[1;32mtry\u001b[0m\u001b[1;33m:\u001b[0m\u001b[1;33m\u001b[0m\u001b[1;33m\u001b[0m\u001b[0m\n\u001b[0;32m      3\u001b[0m         \u001b[0mprint\u001b[0m\u001b[1;33m(\u001b[0m\u001b[0md\u001b[0m\u001b[1;33m)\u001b[0m\u001b[1;33m\u001b[0m\u001b[1;33m\u001b[0m\u001b[0m\n\u001b[0;32m      4\u001b[0m         \u001b[0mprint\u001b[0m\u001b[1;33m(\u001b[0m\u001b[0md\u001b[0m\u001b[1;33m.\u001b[0m\u001b[0mattrs\u001b[0m\u001b[1;33m)\u001b[0m\u001b[1;33m\u001b[0m\u001b[1;33m\u001b[0m\u001b[0m\n\u001b[0;32m      5\u001b[0m     \u001b[1;32mexcept\u001b[0m\u001b[1;33m:\u001b[0m\u001b[1;33m\u001b[0m\u001b[1;33m\u001b[0m\u001b[0m\n",
      "\u001b[1;31mIndexError\u001b[0m: list index out of range"
     ]
    }
   ],
   "source": [
    "for d in soup.find_all('article')[1].children:\n",
    "    try:\n",
    "        print(d)\n",
    "        print(d.attrs)\n",
    "    except:\n",
    "        0==0"
   ]
  },
  {
   "cell_type": "code",
   "execution_count": 6,
   "metadata": {},
   "outputs": [
    {
     "ename": "IndexError",
     "evalue": "list index out of range",
     "output_type": "error",
     "traceback": [
      "\u001b[1;31m---------------------------------------------------------------------------\u001b[0m",
      "\u001b[1;31mIndexError\u001b[0m                                Traceback (most recent call last)",
      "\u001b[1;32m<ipython-input-6-a098c225077a>\u001b[0m in \u001b[0;36m<module>\u001b[1;34m\u001b[0m\n\u001b[1;32m----> 1\u001b[1;33m \u001b[0msoup\u001b[0m\u001b[1;33m.\u001b[0m\u001b[0mfind_all\u001b[0m\u001b[1;33m(\u001b[0m\u001b[1;34m'article'\u001b[0m\u001b[1;33m)\u001b[0m\u001b[1;33m[\u001b[0m\u001b[1;36m0\u001b[0m\u001b[1;33m]\u001b[0m\u001b[1;33m.\u001b[0m\u001b[0mfind\u001b[0m\u001b[1;33m(\u001b[0m\u001b[1;34m'div'\u001b[0m\u001b[1;33m)\u001b[0m\u001b[1;33m.\u001b[0m\u001b[0mfind\u001b[0m\u001b[1;33m(\u001b[0m\u001b[1;34m'a'\u001b[0m\u001b[1;33m)\u001b[0m\u001b[1;33m.\u001b[0m\u001b[0mattrs\u001b[0m\u001b[1;33m\u001b[0m\u001b[1;33m\u001b[0m\u001b[0m\n\u001b[0m",
      "\u001b[1;31mIndexError\u001b[0m: list index out of range"
     ]
    }
   ],
   "source": [
    "soup.find_all('article')[0].find('div').find('a').attrs"
   ]
  },
  {
   "cell_type": "code",
   "execution_count": 7,
   "metadata": {},
   "outputs": [
    {
     "ename": "IndexError",
     "evalue": "list index out of range",
     "output_type": "error",
     "traceback": [
      "\u001b[1;31m---------------------------------------------------------------------------\u001b[0m",
      "\u001b[1;31mIndexError\u001b[0m                                Traceback (most recent call last)",
      "\u001b[1;32m<ipython-input-7-4036cca8b5d7>\u001b[0m in \u001b[0;36m<module>\u001b[1;34m\u001b[0m\n\u001b[1;32m----> 1\u001b[1;33m \u001b[0msoup\u001b[0m\u001b[1;33m.\u001b[0m\u001b[0mfind_all\u001b[0m\u001b[1;33m(\u001b[0m\u001b[1;34m'article'\u001b[0m\u001b[1;33m)\u001b[0m\u001b[1;33m[\u001b[0m\u001b[1;36m0\u001b[0m\u001b[1;33m]\u001b[0m\u001b[1;33m.\u001b[0m\u001b[0mfind\u001b[0m\u001b[1;33m(\u001b[0m\u001b[1;34m'div'\u001b[0m\u001b[1;33m)\u001b[0m\u001b[1;33m.\u001b[0m\u001b[0mfind\u001b[0m\u001b[1;33m(\u001b[0m\u001b[1;34m'a'\u001b[0m\u001b[1;33m)\u001b[0m\u001b[1;33m.\u001b[0m\u001b[0mattrs\u001b[0m\u001b[1;33m[\u001b[0m\u001b[1;34m'href'\u001b[0m\u001b[1;33m]\u001b[0m\u001b[1;33m.\u001b[0m\u001b[0msplit\u001b[0m\u001b[1;33m(\u001b[0m\u001b[1;34m'/'\u001b[0m\u001b[1;33m)\u001b[0m\u001b[1;33m[\u001b[0m\u001b[1;36m1\u001b[0m\u001b[1;33m]\u001b[0m\u001b[1;33m\u001b[0m\u001b[1;33m\u001b[0m\u001b[0m\n\u001b[0m",
      "\u001b[1;31mIndexError\u001b[0m: list index out of range"
     ]
    }
   ],
   "source": [
    "soup.find_all('article')[0].find('div').find('a').attrs['href'].split('/')[1]"
   ]
  },
  {
   "cell_type": "code",
   "execution_count": null,
   "metadata": {},
   "outputs": [],
   "source": []
  },
  {
   "cell_type": "code",
   "execution_count": 8,
   "metadata": {},
   "outputs": [],
   "source": [
    "links = soup.find_all('span',{'data-test-id':\"event-listing-heading\"})"
   ]
  },
  {
   "cell_type": "code",
   "execution_count": 9,
   "metadata": {},
   "outputs": [
    {
     "ename": "IndexError",
     "evalue": "list index out of range",
     "output_type": "error",
     "traceback": [
      "\u001b[1;31m---------------------------------------------------------------------------\u001b[0m",
      "\u001b[1;31mIndexError\u001b[0m                                Traceback (most recent call last)",
      "\u001b[1;32m<ipython-input-9-efb9c36bf328>\u001b[0m in \u001b[0;36m<module>\u001b[1;34m\u001b[0m\n\u001b[1;32m----> 1\u001b[1;33m \u001b[0mlink\u001b[0m \u001b[1;33m=\u001b[0m \u001b[0mlinks\u001b[0m\u001b[1;33m[\u001b[0m\u001b[1;36m0\u001b[0m\u001b[1;33m]\u001b[0m\u001b[1;33m\u001b[0m\u001b[1;33m\u001b[0m\u001b[0m\n\u001b[0m\u001b[0;32m      2\u001b[0m \u001b[1;33m\u001b[0m\u001b[0m\n\u001b[0;32m      3\u001b[0m \u001b[0mlink\u001b[0m\u001b[1;33m.\u001b[0m\u001b[0mattrs\u001b[0m\u001b[1;33m\u001b[0m\u001b[1;33m\u001b[0m\u001b[0m\n",
      "\u001b[1;31mIndexError\u001b[0m: list index out of range"
     ]
    }
   ],
   "source": [
    "link = links[0]\n",
    "\n",
    "link.attrs"
   ]
  },
  {
   "cell_type": "code",
   "execution_count": 45,
   "metadata": {
    "collapsed": true,
    "jupyter": {
     "outputs_hidden": true
    }
   },
   "outputs": [
    {
     "data": {
      "text/plain": [
       "['/events/1443149',\n",
       " '/events/1443674',\n",
       " '/events/1443245',\n",
       " '/events/1443246',\n",
       " '/events/1444412',\n",
       " '/events/1439706',\n",
       " '/events/1441982',\n",
       " '/events/1443940',\n",
       " '/events/1438340',\n",
       " '/events/1439463',\n",
       " '/events/1428232',\n",
       " '/events/1437818',\n",
       " '/events/1438862',\n",
       " '/events/1443559',\n",
       " '/events/1443535',\n",
       " '/events/1442971',\n",
       " '/events/1442794',\n",
       " '/events/1438199',\n",
       " '/events/1439811',\n",
       " '/events/1442796',\n",
       " '/events/1444285',\n",
       " '/events/1443831',\n",
       " '/events/1439139',\n",
       " '/events/1440479',\n",
       " '/events/1443941',\n",
       " '/events/1443126',\n",
       " '/events/1439707',\n",
       " '/events/1443736',\n",
       " '/events/1441307',\n",
       " '/events/1438341',\n",
       " '/events/1438818',\n",
       " '/events/1439463',\n",
       " '/events/1440335',\n",
       " '/events/1440480',\n",
       " '/events/1438091',\n",
       " '/events/1440338',\n",
       " '/events/1426556',\n",
       " '/events/1438796',\n",
       " '/events/1438470',\n",
       " '/events/1439157',\n",
       " '/events/1438452',\n",
       " '/events/1438469',\n",
       " '/events/1442971',\n",
       " '/events/1428223',\n",
       " '/events/1438791',\n",
       " '/events/1443044',\n",
       " '/events/1439140',\n",
       " '/events/1441178',\n",
       " '/events/1443291',\n",
       " '/events/1443836',\n",
       " '/events/1443273',\n",
       " '/events/1443272',\n",
       " '/events/1439708',\n",
       " '/events/1443410',\n",
       " '/events/1443942',\n",
       " '/events/1443048',\n",
       " '/events/1438342',\n",
       " '/events/1440574',\n",
       " '/events/1428754',\n",
       " '/events/1439784',\n",
       " '/events/1441582',\n",
       " '/events/1438879',\n",
       " '/events/1441563',\n",
       " '/events/1442183',\n",
       " '/events/1442654',\n",
       " '/events/1439708',\n",
       " '/events/1439709',\n",
       " '/events/1444326',\n",
       " '/events/1441905',\n",
       " '/events/1439709',\n",
       " '/events/1444326',\n",
       " '/events/1442936']"
      ]
     },
     "execution_count": 45,
     "metadata": {},
     "output_type": "execute_result"
    }
   ],
   "source": [
    "def get_events_list_from_search(soup):\n",
    "    \"\"\"\n",
    "    Soup object for the search list webpage\n",
    "    :param soup:\n",
    "    :return: list of href in string format for event pages\n",
    "    \"\"\"\n",
    "    links = soup.find_all('span',{'data-test-id':\"event-listing-heading\"})\n",
    "    return [l['href'] for l in links]\n",
    "\n",
    "get_events_list_from_search(soup)"
   ]
  },
  {
   "cell_type": "code",
   "execution_count": 36,
   "metadata": {},
   "outputs": [
    {
     "data": {
      "text/plain": [
       "'/events/1443149'"
      ]
     },
     "execution_count": 36,
     "metadata": {},
     "output_type": "execute_result"
    }
   ],
   "source": [
    "link['href']"
   ]
  },
  {
   "cell_type": "code",
   "execution_count": 22,
   "metadata": {},
   "outputs": [
    {
     "ename": "AttributeError",
     "evalue": "'NoneType' object has no attribute 'attrs'",
     "output_type": "error",
     "traceback": [
      "\u001b[1;31m---------------------------------------------------------------------------\u001b[0m",
      "\u001b[1;31mAttributeError\u001b[0m                            Traceback (most recent call last)",
      "\u001b[1;32m<ipython-input-22-546fa4d461dd>\u001b[0m in \u001b[0;36m<module>\u001b[1;34m\u001b[0m\n\u001b[0;32m      2\u001b[0m \u001b[1;32mfor\u001b[0m \u001b[0marticle\u001b[0m \u001b[1;32min\u001b[0m \u001b[0msoup\u001b[0m\u001b[1;33m.\u001b[0m\u001b[0mfind_all\u001b[0m\u001b[1;33m(\u001b[0m\u001b[0mis_event_link\u001b[0m\u001b[1;33m)\u001b[0m\u001b[1;33m:\u001b[0m\u001b[1;33m\u001b[0m\u001b[1;33m\u001b[0m\u001b[0m\n\u001b[0;32m      3\u001b[0m     \u001b[1;31m#try:\u001b[0m\u001b[1;33m\u001b[0m\u001b[1;33m\u001b[0m\u001b[1;33m\u001b[0m\u001b[0m\n\u001b[1;32m----> 4\u001b[1;33m     \u001b[0mlinks\u001b[0m\u001b[1;33m.\u001b[0m\u001b[0mappend\u001b[0m\u001b[1;33m(\u001b[0m\u001b[0marticle\u001b[0m\u001b[1;33m.\u001b[0m\u001b[0mfind\u001b[0m\u001b[1;33m(\u001b[0m\u001b[1;34m'div'\u001b[0m\u001b[1;33m)\u001b[0m\u001b[1;33m.\u001b[0m\u001b[0mfind\u001b[0m\u001b[1;33m(\u001b[0m\u001b[1;34m'a'\u001b[0m\u001b[1;33m)\u001b[0m\u001b[1;33m.\u001b[0m\u001b[0mattrs\u001b[0m\u001b[1;33m)\u001b[0m\u001b[1;33m\u001b[0m\u001b[1;33m\u001b[0m\u001b[0m\n\u001b[0m\u001b[0;32m      5\u001b[0m     \u001b[1;31m#except:\u001b[0m\u001b[1;33m\u001b[0m\u001b[1;33m\u001b[0m\u001b[1;33m\u001b[0m\u001b[0m\n\u001b[0;32m      6\u001b[0m      \u001b[1;31m#   continue\u001b[0m\u001b[1;33m\u001b[0m\u001b[1;33m\u001b[0m\u001b[1;33m\u001b[0m\u001b[0m\n",
      "\u001b[1;31mAttributeError\u001b[0m: 'NoneType' object has no attribute 'attrs'"
     ]
    }
   ],
   "source": [
    "links = []\n",
    "for article in soup.find_all('a',\n",
    "                             {'data-test-id':\"event-listing-heading\"}\n",
    "                            ):\n",
    "    #try:\n",
    "    links.append(article.find('div').find('a').attrs)\n",
    "    #except:\n",
    "     #   continue\n",
    "links        \n",
    "#<a href=\"/events/1443246\" data-tracking-id=\"/events/1443246\" data-test-id=\"event-listing-heading\" class=\"Link__AnchorWrapper-k7o46r-1 iRSXcp\"><span href=\"/events/1443246\" data-tracking-id=\"/events/1443246\" data-test-id=\"event-listing-heading\" color=\"primary\" font-weight=\"normal\" class=\"Text-sc-1t0gn2o-0 Link__StyledLink-k7o46r-0 ZNgTg\">DJs at Costa Del Tottenham</span></a>"
   ]
  },
  {
   "cell_type": "code",
   "execution_count": 84,
   "metadata": {},
   "outputs": [
    {
     "data": {
      "text/plain": [
       "{'href': '/events/1424611',\n",
       " 'itemprop': 'url',\n",
       " 'title': 'Event details of Else X Renate 13 w. Hunee & Young Marco'}"
      ]
     },
     "execution_count": 84,
     "metadata": {},
     "output_type": "execute_result"
    }
   ],
   "source": [
    "links[0]"
   ]
  },
  {
   "cell_type": "code",
   "execution_count": 46,
   "metadata": {},
   "outputs": [],
   "source": [
    "eventurl = r'https://ra.co/events/1440335'\n",
    "r = request_hidden(eventurl)\n",
    "\n",
    "content = r.content\n",
    "\n",
    "soup = BeautifulSoup(content,'lxml')"
   ]
  },
  {
   "cell_type": "code",
   "execution_count": 61,
   "metadata": {},
   "outputs": [
    {
     "data": {
      "text/plain": [
       "3"
      ]
     },
     "execution_count": 61,
     "metadata": {},
     "output_type": "execute_result"
    }
   ],
   "source": [
    "lineup = soup.find('div',{'data-tracking-id':'event-detail-lineup'})\n",
    "artists = lineup.find_all('a')\n",
    "[a['href'] for a in artists]\n",
    "len(artists)"
   ]
  },
  {
   "cell_type": "code",
   "execution_count": 62,
   "metadata": {},
   "outputs": [],
   "source": [
    "artisturl = r'https://ra.co/dj/benmurphy'\n",
    "\n",
    "r=request_hidden(artisturl)\n",
    "content=r.content\n",
    "\n",
    "artsoup = BeautifulSoup(content,'lxml')\n",
    "\n"
   ]
  },
  {
   "cell_type": "code",
   "execution_count": 63,
   "metadata": {},
   "outputs": [
    {
     "data": {
      "text/plain": [
       "'https://www.soundcloud.com/techtwin'"
      ]
     },
     "execution_count": 63,
     "metadata": {},
     "output_type": "execute_result"
    }
   ],
   "source": [
    "artsoup.find('a', {'href': re.compile(r'soundcloud\\.com/')})['href']"
   ]
  }
 ],
 "metadata": {
  "kernelspec": {
   "display_name": "Python 3",
   "language": "python",
   "name": "python3"
  },
  "language_info": {
   "codemirror_mode": {
    "name": "ipython",
    "version": 3
   },
   "file_extension": ".py",
   "mimetype": "text/x-python",
   "name": "python",
   "nbconvert_exporter": "python",
   "pygments_lexer": "ipython3",
   "version": "3.7.4"
  }
 },
 "nbformat": 4,
 "nbformat_minor": 4
}
